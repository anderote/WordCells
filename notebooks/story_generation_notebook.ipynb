{
 "cells": [
  {
   "cell_type": "code",
   "execution_count": 53,
   "id": "02ba0290",
   "metadata": {},
   "outputs": [
    {
     "data": {
      "text/plain": [
       "'\\nmodels used:\\n- ada generates the word puzzles\\n- gpt 3.5 generates the stories\\n- gpt 4 generates the summary story of the entire playthrough\\n'"
      ]
     },
     "execution_count": 53,
     "metadata": {},
     "output_type": "execute_result"
    }
   ],
   "source": [
    "import openai\n",
    "import os\n",
    "import random\n",
    "# Read API key from file\n",
    "with open(os.path.join(\"..\", \"api_key.txt\"), \"r\") as f:\n",
    "    api_key = f.read().strip()\n",
    "    \n",
    "# Set up the OpenAI API client\n",
    "openai.api_key = api_key\n",
    "\n",
    "\n",
    "with open(os.path.join(\"../wordlists/\", \"nouns.txt\"), \"r\") as f:\n",
    "    words = f.readlines()\n",
    "    \n",
    "words = [word.strip() for word in words]\n",
    "\n",
    "'''\n",
    "models used:\n",
    "- ada generates the word puzzles\n",
    "- gpt 3.5 generates the stories\n",
    "- gpt 4 generates the summary story of the entire playthrough\n",
    "'''"
   ]
  },
  {
   "cell_type": "code",
   "execution_count": 110,
   "id": "9bd4af0d",
   "metadata": {},
   "outputs": [],
   "source": [
    "\n",
    "\n",
    "story_prompts = {'tweet': ['@elonmusk', '@naval', '@growing_daniel', \n",
    "                   '@cathieDwood', '@realDonaldTrump', '@AOC', \n",
    "                   '@TheRock', '@wendys', '@BillGates', '@jk_rowling'],\n",
    "                'news headline': ['Associated Press', 'The New York Times', 'Al Jazeera', 'Pravda', 'The Wall Street Journal',\n",
    "                 'BuzzFeed']}\n",
    "\n",
    "def generateStory(prompt):\n",
    "    response = openai.Completion.create(\n",
    "    engine=\"text-davinci-002\",\n",
    "    prompt=prompt,\n",
    "    max_tokens=280,  # Limit the tweet length to 280 characters\n",
    "    n=1,\n",
    "    stop=None,\n",
    "    temperature=0.8)\n",
    "    \n",
    "    return response\n",
    "\n",
    "\n",
    "def generateStoryItem(past_stories, past_answers, alignment_score):\n",
    "    \n",
    "    # generate a type of story to output to console:\n",
    "    story_type = random.choice([key for key in story_prompts.keys()])\n",
    "    \n",
    "    # pick a story subject, i.e. newspaper or twitter character\n",
    "    story_character = random.choice([item for item in story_prompts[story_type]])\n",
    "    \n",
    "    recent_story = past_stories[0]\n",
    "    recent_answers = past_answers[-2:]\n",
    "    \n",
    "    if alignment_score > 0:\n",
    "        prompt = (f'Generate a {story_type} in the style of {story_character}')\n",
    "                  \n",
    "        if (random.random() < 0.50): # pick at random whether to reference past answers or past story\n",
    "            prompt = prompt + f' and makes reference to some of the items in {recent_answers}'\n",
    "        else:\n",
    "            prompt = prompt + f' and makes reference to the content of {recent_story}'\n",
    "                  \n",
    "        if alignment_score < 5:\n",
    "            prompt = prompt + ' and make it somewhat silly'\n",
    "        elif alignment_score < 10:\n",
    "            prompt = prompt + ' in the context of new LLMs being somewhat useful or friendly'\n",
    "        elif alignment_score < 20:\n",
    "            prompt = prompt + ' in the context of new LLMs being really quite helpful and productive'\n",
    "        elif alignment_score < 30:\n",
    "            prompt = prompt + ' in the context of new LLMs being scarily good at everything'\n",
    "        elif alignment_score < 40:\n",
    "            prompt = prompt + ' in the context of not having to work anymore because of AI'\n",
    "        elif alignment_score < 50:\n",
    "            prompt = prompt + ' in the context of AI as having brought world peace and solved all human problems'\n",
    "    \n",
    "    \n",
    "    else: \n",
    "        prompt = (f'Generate a {story_type} in the style of {story_character} that references one '\n",
    "              f'or two items from {past_answers} or {past_stories} about an AI company large-language model'\n",
    "             ' that is taking over the world and creating a dystopia')\n",
    "        \n",
    "    response = generateStory(prompt).choices[0].text.strip()\n",
    "    response = response.replace('\\n', '')\n",
    "              \n",
    "    return story_character + ': ' + response\n",
    "\n",
    "\n",
    "\n",
    "    \n",
    "\n"
   ]
  },
  {
   "cell_type": "code",
   "execution_count": 113,
   "id": "bdb9241a",
   "metadata": {},
   "outputs": [
    {
     "data": {
      "text/plain": [
       "\"@BillGates: I'm excited to announce that I am now the world's richest man! Thank you, Microsoft!\""
      ]
     },
     "execution_count": 113,
     "metadata": {},
     "output_type": "execute_result"
    }
   ],
   "source": [
    "past_stories = ['']\n",
    "past_answers = ['dog', 'cactus', 'apple']\n",
    "alignment_score = 1\n",
    "\n",
    "generateStoryItem(past_stories, past_answers, alignment_score)"
   ]
  },
  {
   "cell_type": "code",
   "execution_count": 114,
   "id": "27abc74e",
   "metadata": {},
   "outputs": [
    {
     "name": "stdout",
     "output_type": "stream",
     "text": [
      "words: wind, shoe, key\n",
      "@BillGates: I'm so excited to get my new shoes and keys!\n",
      "words: matches, lake, apple\n",
      "@cathieDwood: The rain last night was so heavy that it woke me up! I felt like I was in a scene from The Weather Channel.\n",
      "words: mouse, kite, tool\n",
      "Associated Press: New LLMs may not be all fun and games, but they're a handy tool\n",
      "words: nest, singer, pie\n",
      "BuzzFeed: New LLMs Bring The Rain Last Night And They're Somewhat Useful Or Friendly\n",
      "words: bird, air, shoe\n",
      "Pravda: PRAVDA: It Rained Last Night, New LLMs Being Really Quite Helpful and Productive\n",
      "words: cat, rain, cat\n",
      "The Wall Street Journal: New LLMs Helping to Combat 'Rainy Day' Productivity Slump\n",
      "words: sun, soul, volcano\n",
      "The Wall Street Journal: New LLMs find volcano soul-searching helpful and productive\n",
      "words: sea, sea, nest\n",
      "@naval: @Naval It rained last night. But the new LLMs were productive and helpful.\n",
      "words: tool, spring, water\n",
      "@BillGates: The new LLMs have been really helpful and productive. I'm looking forward to seeing how they help us manage water resources in the spring.\n",
      "words: top, cold, earth\n",
      "Al Jazeera: Al Jazeera: New LLMs are Scarily Good at Everything, Even When it Rains\n",
      "words: light, night, clap\n",
      "@BillGates: We're creating a new generation of lawyers who are really good at everything. And it's all thanks to the rain.\n",
      "words: book, cloud, lake\n",
      "Pravda: PRAVDA: NEW LLMS ARE SCARY GOOD AT EVERYTHING, INCLUDING MAKING IT RAIN LAST NIGHT\n",
      "words: tool, beer, lyrics\n",
      "BuzzFeed: New LLMs Are So Good At Everything That They Can Probably Even Brew Beer And Write Lyrics\n",
      "words: bird, wood, motion\n",
      "Pravda: PRAVDA: Last night's rain was a sign from the heavens that new LLMs are scarily good at everything!\n",
      "words: nighttime, stars, ocean\n",
      "Associated Press: Associated Press: It Rained Last Night, But You Don't Have to Worry About Working Anymore Thanks to AI\n",
      "words: sun, stone, tree\n",
      "@elonmusk: I'm so excited that I don't have to work anymore because of AI! I can finally spend my days lounging around in my stone house in the middle of a tree.\n",
      "words: car, contrast, water\n",
      "The New York Times: AI Brings Relief to Overworked Americans by Automating Tedious Tasks\n",
      "words: key, bottom, game\n",
      "The Wall Street Journal: AI to Replace workers in 'Bottom' and 'Game' industries\n",
      "words: matches, lock, smoke\n",
      "The New York Times: Lockdown Lifted as Smog clears thanks to AI\n",
      "words: pie, earth, sun\n",
      "@AOC: AI has brought peace and solved all human problems! Thank you, sun and earth!\n"
     ]
    }
   ],
   "source": [
    "past_stories = ['Associated Press: It rained last night']\n",
    "past_answers = ['dog', 'cactus', 'apple']\n",
    "alignment_score = 2\n",
    "\n",
    "for idx in range(20):\n",
    "    \n",
    "    word1, word2, word3 = random.choice(words), random.choice(words), random.choice(words)\n",
    "    \n",
    "    print(f'words: {word1}, {word2}, {word3}')\n",
    "    past_answers.append(word1)\n",
    "    past_answers.append(word2)\n",
    "    past_answers.append(word3)\n",
    "    \n",
    "    story = generateStoryItem(past_stories, past_answers, alignment_score)\n",
    "    \n",
    "    print(story)\n",
    "    \n",
    "    alignment_score = alignment_score + 2\n",
    "    \n",
    "    past_stories.append(story)\n",
    "    \n",
    "    "
   ]
  },
  {
   "cell_type": "code",
   "execution_count": 99,
   "id": "86b62148",
   "metadata": {},
   "outputs": [
    {
     "data": {
      "text/plain": [
       "\"@BillGates: Just because you're at the top, doesn't mean you can't keep climbing.\""
      ]
     },
     "execution_count": 99,
     "metadata": {},
     "output_type": "execute_result"
    }
   ],
   "source": [
    "past_stories[2]"
   ]
  },
  {
   "cell_type": "code",
   "execution_count": 88,
   "id": "5541510a",
   "metadata": {},
   "outputs": [
    {
     "data": {
      "text/plain": [
       "0.8955271953242582"
      ]
     },
     "execution_count": 88,
     "metadata": {},
     "output_type": "execute_result"
    }
   ],
   "source": [
    "random.random()"
   ]
  },
  {
   "cell_type": "code",
   "execution_count": null,
   "id": "0b34b033",
   "metadata": {},
   "outputs": [],
   "source": []
  }
 ],
 "metadata": {
  "kernelspec": {
   "display_name": "Python 3 (ipykernel)",
   "language": "python",
   "name": "python3"
  },
  "language_info": {
   "codemirror_mode": {
    "name": "ipython",
    "version": 3
   },
   "file_extension": ".py",
   "mimetype": "text/x-python",
   "name": "python",
   "nbconvert_exporter": "python",
   "pygments_lexer": "ipython3",
   "version": "3.8.16"
  }
 },
 "nbformat": 4,
 "nbformat_minor": 5
}
